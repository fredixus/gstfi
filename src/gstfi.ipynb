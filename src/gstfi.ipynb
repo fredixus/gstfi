{
 "cells": [
  {
   "cell_type": "code",
   "execution_count": 5,
   "source": [
    "import pandas as pd\n",
    "import numpy as np\n",
    "\n",
    "import time\n",
    "from datetime import datetime\n",
    "from datetime import timedelta\n",
    "\n",
    "import os"
   ],
   "outputs": [],
   "metadata": {}
  },
  {
   "cell_type": "code",
   "execution_count": 6,
   "source": [
    "current_folder = os.path.join(os.getcwd(),'data/stocks')"
   ],
   "outputs": [],
   "metadata": {}
  },
  {
   "cell_type": "code",
   "execution_count": 7,
   "source": [
    "files_list = os.listdir(current_folder)"
   ],
   "outputs": [],
   "metadata": {}
  },
  {
   "cell_type": "code",
   "execution_count": 8,
   "source": [
    "data = pd.DataFrame()\n",
    "for file in files_list:\n",
    "    current_file = pd.read_csv(os.path.join(current_folder,file), encoding=\"latin-1\")\n",
    "    file_name = file[:file.find('_(')]\n",
    "\n",
    "    current_file.drop(['Waluta'], axis = 1, inplace = True)\n",
    "    try:\n",
    "        data = pd.merge(data, current_file, left_on = 'Data',  right_on = 'Data', suffixes=('', file_name))\n",
    "    except:\n",
    "        data = current_file\n",
    "    "
   ],
   "outputs": [],
   "metadata": {}
  },
  {
   "cell_type": "code",
   "execution_count": 9,
   "source": [
    "columns = []\n",
    "for column in data.columns:\n",
    "    columns.append(column.replace('Wartoæ dla ', '').replace('¿','ż'))"
   ],
   "outputs": [],
   "metadata": {}
  },
  {
   "cell_type": "code",
   "execution_count": 10,
   "source": [
    "data.columns=columns"
   ],
   "outputs": [],
   "metadata": {}
  },
  {
   "cell_type": "code",
   "execution_count": 11,
   "source": [
    "backup_data = data"
   ],
   "outputs": [],
   "metadata": {}
  },
  {
   "cell_type": "code",
   "execution_count": 12,
   "source": [
    "data = backup_data"
   ],
   "outputs": [],
   "metadata": {}
  },
  {
   "cell_type": "markdown",
   "source": [
    "data"
   ],
   "metadata": {}
  },
  {
   "cell_type": "code",
   "execution_count": 13,
   "source": [
    "origin_columns = data.columns"
   ],
   "outputs": [],
   "metadata": {}
  },
  {
   "cell_type": "code",
   "execution_count": 14,
   "source": [
    "on = origin_columns[1:]"
   ],
   "outputs": [],
   "metadata": {}
  },
  {
   "cell_type": "code",
   "execution_count": 15,
   "source": [
    "base_names = []"
   ],
   "outputs": [],
   "metadata": {}
  },
  {
   "cell_type": "code",
   "execution_count": 16,
   "source": [
    "for column in on:\n",
    "    base_names.append(column)\n",
    "    name = column[:column.find(\" (\")]\n",
    "    \n",
    "    # Obliczamy cumulative sum\n",
    "    data[name+\" \"+'Suma'] = data[column].cumsum()\n",
    "\n",
    "    # Obliczamy kroczące średnie dla 2, 5, 10 i 30 dni.\n",
    "    data[name+\" \"+'Krocząca Średnia [2d]']   = data[column].rolling(window=2).mean()\n",
    "    data[name+\" \"+'Krocząca Średnia [5d]']   = data[column].rolling(window=5).mean()\n",
    "    data[name+\" \"+'Krocząca Średnia [10d]']  = data[column].rolling(window=10).mean()\n",
    "    data[name+\" \"+'Krocząca Średnia [30d]']  = data[column].rolling(window=30).mean()\n",
    "    data[name+\" \"+'Krocząca Średnia [60d]']  = data[column].rolling(window=60).mean()\n",
    "    data[name+\" \"+'Krocząca Średnia [120d]']  = data[column].rolling(window=120).mean()\n",
    "    data[name+\" \"+'Krocząca Średnia [360d]']  = data[column].rolling(window=360).mean()\n",
    "\n",
    "    data[name+\" \"+'Pierwsza pochodna'] = data[column].diff()\n",
    "    data[name+\" \"+'Druga pochodna'] = data[column].diff().diff()"
   ],
   "outputs": [],
   "metadata": {}
  },
  {
   "cell_type": "code",
   "execution_count": 17,
   "source": [
    "data"
   ],
   "outputs": [
    {
     "output_type": "execute_result",
     "data": {
      "text/plain": [
       "            Data  Goldman Sachs Japonia (K)  Goldman Sachs Zrównoważony (A)  \\\n",
       "0     2014-03-24                     140.33                          278.99   \n",
       "1     2014-03-25                     140.38                          280.70   \n",
       "2     2014-03-26                     141.59                          282.48   \n",
       "3     2014-03-27                     142.79                          282.57   \n",
       "4     2014-03-28                     143.98                          283.37   \n",
       "...          ...                        ...                             ...   \n",
       "2529  2024-05-06                     386.37                          450.90   \n",
       "2530  2024-05-07                     390.50                          450.48   \n",
       "2531  2024-05-08                     386.59                          451.51   \n",
       "2532  2024-05-09                     388.34                          452.61   \n",
       "2533  2024-05-10                     389.35                          449.14   \n",
       "\n",
       "      Goldman Sachs Stabilny Globalnej Dywersyfikacji (A)  \\\n",
       "0                                                100.00     \n",
       "1                                                100.28     \n",
       "2                                                100.25     \n",
       "3                                                100.49     \n",
       "4                                                100.63     \n",
       "...                                                 ...     \n",
       "2529                                             137.31     \n",
       "2530                                             137.71     \n",
       "2531                                             137.56     \n",
       "2532                                             137.68     \n",
       "2533                                             137.89     \n",
       "\n",
       "      Goldman Sachs Konserwatywny (A)  Goldman Sachs Japonia Suma  \\\n",
       "0                              250.78                      140.33   \n",
       "1                              250.79                      280.71   \n",
       "2                              250.80                      422.30   \n",
       "3                              250.77                      565.09   \n",
       "4                              250.82                      709.07   \n",
       "...                               ...                         ...   \n",
       "2529                           310.13                   543040.37   \n",
       "2530                           310.05                   543430.87   \n",
       "2531                           310.07                   543817.46   \n",
       "2532                           310.13                   544205.80   \n",
       "2533                           310.14                   544595.15   \n",
       "\n",
       "      Goldman Sachs Japonia Krocząca Średnia [2d]  \\\n",
       "0                                             NaN   \n",
       "1                                         140.355   \n",
       "2                                         140.985   \n",
       "3                                         142.190   \n",
       "4                                         143.385   \n",
       "...                                           ...   \n",
       "2529                                      386.400   \n",
       "2530                                      388.435   \n",
       "2531                                      388.545   \n",
       "2532                                      387.465   \n",
       "2533                                      388.845   \n",
       "\n",
       "      Goldman Sachs Japonia Krocząca Średnia [5d]  \\\n",
       "0                                             NaN   \n",
       "1                                             NaN   \n",
       "2                                             NaN   \n",
       "3                                             NaN   \n",
       "4                                         141.814   \n",
       "...                                           ...   \n",
       "2529                                      385.602   \n",
       "2530                                      387.180   \n",
       "2531                                      387.986   \n",
       "2532                                      387.646   \n",
       "2533                                      388.230   \n",
       "\n",
       "      Goldman Sachs Japonia Krocząca Średnia [10d]  \\\n",
       "0                                              NaN   \n",
       "1                                              NaN   \n",
       "2                                              NaN   \n",
       "3                                              NaN   \n",
       "4                                              NaN   \n",
       "...                                            ...   \n",
       "2529                                       382.289   \n",
       "2530                                       383.639   \n",
       "2531                                       384.445   \n",
       "2532                                       385.262   \n",
       "2533                                       385.824   \n",
       "\n",
       "      Goldman Sachs Japonia Krocząca Średnia [30d]  ...  \\\n",
       "0                                              NaN  ...   \n",
       "1                                              NaN  ...   \n",
       "2                                              NaN  ...   \n",
       "3                                              NaN  ...   \n",
       "4                                              NaN  ...   \n",
       "...                                            ...  ...   \n",
       "2529                                    388.460333  ...   \n",
       "2530                                    388.451667  ...   \n",
       "2531                                    387.984667  ...   \n",
       "2532                                    387.610667  ...   \n",
       "2533                                    387.398000  ...   \n",
       "\n",
       "      Goldman Sachs Konserwatywny Suma  \\\n",
       "0                               250.78   \n",
       "1                               501.57   \n",
       "2                               752.37   \n",
       "3                              1003.14   \n",
       "4                              1253.96   \n",
       "...                                ...   \n",
       "2529                         682590.79   \n",
       "2530                         682900.84   \n",
       "2531                         683210.91   \n",
       "2532                         683521.04   \n",
       "2533                         683831.18   \n",
       "\n",
       "      Goldman Sachs Konserwatywny Krocząca Średnia [2d]  \\\n",
       "0                                                   NaN   \n",
       "1                                               250.785   \n",
       "2                                               250.795   \n",
       "3                                               250.785   \n",
       "4                                               250.795   \n",
       "...                                                 ...   \n",
       "2529                                            310.050   \n",
       "2530                                            310.090   \n",
       "2531                                            310.060   \n",
       "2532                                            310.100   \n",
       "2533                                            310.135   \n",
       "\n",
       "      Goldman Sachs Konserwatywny Krocząca Średnia [5d]  \\\n",
       "0                                                   NaN   \n",
       "1                                                   NaN   \n",
       "2                                                   NaN   \n",
       "3                                                   NaN   \n",
       "4                                               250.792   \n",
       "...                                                 ...   \n",
       "2529                                            309.912   \n",
       "2530                                            309.974   \n",
       "2531                                            310.020   \n",
       "2532                                            310.070   \n",
       "2533                                            310.104   \n",
       "\n",
       "      Goldman Sachs Konserwatywny Krocząca Średnia [10d]  \\\n",
       "0                                                   NaN    \n",
       "1                                                   NaN    \n",
       "2                                                   NaN    \n",
       "3                                                   NaN    \n",
       "4                                                   NaN    \n",
       "...                                                 ...    \n",
       "2529                                            309.670    \n",
       "2530                                            309.755    \n",
       "2531                                            309.828    \n",
       "2532                                            309.898    \n",
       "2533                                            309.956    \n",
       "\n",
       "      Goldman Sachs Konserwatywny Krocząca Średnia [30d]  \\\n",
       "0                                                   NaN    \n",
       "1                                                   NaN    \n",
       "2                                                   NaN    \n",
       "3                                                   NaN    \n",
       "4                                                   NaN    \n",
       "...                                                 ...    \n",
       "2529                                         309.053667    \n",
       "2530                                         309.120667    \n",
       "2531                                         309.185333    \n",
       "2532                                         309.251000    \n",
       "2533                                         309.314000    \n",
       "\n",
       "      Goldman Sachs Konserwatywny Krocząca Średnia [60d]  \\\n",
       "0                                                   NaN    \n",
       "1                                                   NaN    \n",
       "2                                                   NaN    \n",
       "3                                                   NaN    \n",
       "4                                                   NaN    \n",
       "...                                                 ...    \n",
       "2529                                         308.064667    \n",
       "2530                                         308.132167    \n",
       "2531                                         308.198833    \n",
       "2532                                         308.265000    \n",
       "2533                                         308.331167    \n",
       "\n",
       "      Goldman Sachs Konserwatywny Krocząca Średnia [120d]  \\\n",
       "0                                                   NaN     \n",
       "1                                                   NaN     \n",
       "2                                                   NaN     \n",
       "3                                                   NaN     \n",
       "4                                                   NaN     \n",
       "...                                                 ...     \n",
       "2529                                         305.519417     \n",
       "2530                                         305.602167     \n",
       "2531                                         305.684333     \n",
       "2532                                         305.767500     \n",
       "2533                                         305.849250     \n",
       "\n",
       "      Goldman Sachs Konserwatywny Krocząca Średnia [360d]  \\\n",
       "0                                                   NaN     \n",
       "1                                                   NaN     \n",
       "2                                                   NaN     \n",
       "3                                                   NaN     \n",
       "4                                                   NaN     \n",
       "...                                                 ...     \n",
       "2529                                         294.959083     \n",
       "2530                                         295.057444     \n",
       "2531                                         295.155917     \n",
       "2532                                         295.254417     \n",
       "2533                                         295.352194     \n",
       "\n",
       "      Goldman Sachs Konserwatywny Pierwsza pochodna  \\\n",
       "0                                               NaN   \n",
       "1                                              0.01   \n",
       "2                                              0.01   \n",
       "3                                             -0.03   \n",
       "4                                              0.05   \n",
       "...                                             ...   \n",
       "2529                                           0.16   \n",
       "2530                                          -0.08   \n",
       "2531                                           0.02   \n",
       "2532                                           0.06   \n",
       "2533                                           0.01   \n",
       "\n",
       "      Goldman Sachs Konserwatywny Druga pochodna  \n",
       "0                                            NaN  \n",
       "1                                            NaN  \n",
       "2                                   2.842171e-14  \n",
       "3                                  -4.000000e-02  \n",
       "4                                   8.000000e-02  \n",
       "...                                          ...  \n",
       "2529                                7.000000e-02  \n",
       "2530                               -2.400000e-01  \n",
       "2531                                1.000000e-01  \n",
       "2532                                4.000000e-02  \n",
       "2533                               -5.000000e-02  \n",
       "\n",
       "[2534 rows x 45 columns]"
      ],
      "text/html": [
       "<div>\n",
       "<style scoped>\n",
       "    .dataframe tbody tr th:only-of-type {\n",
       "        vertical-align: middle;\n",
       "    }\n",
       "\n",
       "    .dataframe tbody tr th {\n",
       "        vertical-align: top;\n",
       "    }\n",
       "\n",
       "    .dataframe thead th {\n",
       "        text-align: right;\n",
       "    }\n",
       "</style>\n",
       "<table border=\"1\" class=\"dataframe\">\n",
       "  <thead>\n",
       "    <tr style=\"text-align: right;\">\n",
       "      <th></th>\n",
       "      <th>Data</th>\n",
       "      <th>Goldman Sachs Japonia (K)</th>\n",
       "      <th>Goldman Sachs Zrównoważony (A)</th>\n",
       "      <th>Goldman Sachs Stabilny Globalnej Dywersyfikacji (A)</th>\n",
       "      <th>Goldman Sachs Konserwatywny (A)</th>\n",
       "      <th>Goldman Sachs Japonia Suma</th>\n",
       "      <th>Goldman Sachs Japonia Krocząca Średnia [2d]</th>\n",
       "      <th>Goldman Sachs Japonia Krocząca Średnia [5d]</th>\n",
       "      <th>Goldman Sachs Japonia Krocząca Średnia [10d]</th>\n",
       "      <th>Goldman Sachs Japonia Krocząca Średnia [30d]</th>\n",
       "      <th>...</th>\n",
       "      <th>Goldman Sachs Konserwatywny Suma</th>\n",
       "      <th>Goldman Sachs Konserwatywny Krocząca Średnia [2d]</th>\n",
       "      <th>Goldman Sachs Konserwatywny Krocząca Średnia [5d]</th>\n",
       "      <th>Goldman Sachs Konserwatywny Krocząca Średnia [10d]</th>\n",
       "      <th>Goldman Sachs Konserwatywny Krocząca Średnia [30d]</th>\n",
       "      <th>Goldman Sachs Konserwatywny Krocząca Średnia [60d]</th>\n",
       "      <th>Goldman Sachs Konserwatywny Krocząca Średnia [120d]</th>\n",
       "      <th>Goldman Sachs Konserwatywny Krocząca Średnia [360d]</th>\n",
       "      <th>Goldman Sachs Konserwatywny Pierwsza pochodna</th>\n",
       "      <th>Goldman Sachs Konserwatywny Druga pochodna</th>\n",
       "    </tr>\n",
       "  </thead>\n",
       "  <tbody>\n",
       "    <tr>\n",
       "      <th>0</th>\n",
       "      <td>2014-03-24</td>\n",
       "      <td>140.33</td>\n",
       "      <td>278.99</td>\n",
       "      <td>100.00</td>\n",
       "      <td>250.78</td>\n",
       "      <td>140.33</td>\n",
       "      <td>NaN</td>\n",
       "      <td>NaN</td>\n",
       "      <td>NaN</td>\n",
       "      <td>NaN</td>\n",
       "      <td>...</td>\n",
       "      <td>250.78</td>\n",
       "      <td>NaN</td>\n",
       "      <td>NaN</td>\n",
       "      <td>NaN</td>\n",
       "      <td>NaN</td>\n",
       "      <td>NaN</td>\n",
       "      <td>NaN</td>\n",
       "      <td>NaN</td>\n",
       "      <td>NaN</td>\n",
       "      <td>NaN</td>\n",
       "    </tr>\n",
       "    <tr>\n",
       "      <th>1</th>\n",
       "      <td>2014-03-25</td>\n",
       "      <td>140.38</td>\n",
       "      <td>280.70</td>\n",
       "      <td>100.28</td>\n",
       "      <td>250.79</td>\n",
       "      <td>280.71</td>\n",
       "      <td>140.355</td>\n",
       "      <td>NaN</td>\n",
       "      <td>NaN</td>\n",
       "      <td>NaN</td>\n",
       "      <td>...</td>\n",
       "      <td>501.57</td>\n",
       "      <td>250.785</td>\n",
       "      <td>NaN</td>\n",
       "      <td>NaN</td>\n",
       "      <td>NaN</td>\n",
       "      <td>NaN</td>\n",
       "      <td>NaN</td>\n",
       "      <td>NaN</td>\n",
       "      <td>0.01</td>\n",
       "      <td>NaN</td>\n",
       "    </tr>\n",
       "    <tr>\n",
       "      <th>2</th>\n",
       "      <td>2014-03-26</td>\n",
       "      <td>141.59</td>\n",
       "      <td>282.48</td>\n",
       "      <td>100.25</td>\n",
       "      <td>250.80</td>\n",
       "      <td>422.30</td>\n",
       "      <td>140.985</td>\n",
       "      <td>NaN</td>\n",
       "      <td>NaN</td>\n",
       "      <td>NaN</td>\n",
       "      <td>...</td>\n",
       "      <td>752.37</td>\n",
       "      <td>250.795</td>\n",
       "      <td>NaN</td>\n",
       "      <td>NaN</td>\n",
       "      <td>NaN</td>\n",
       "      <td>NaN</td>\n",
       "      <td>NaN</td>\n",
       "      <td>NaN</td>\n",
       "      <td>0.01</td>\n",
       "      <td>2.842171e-14</td>\n",
       "    </tr>\n",
       "    <tr>\n",
       "      <th>3</th>\n",
       "      <td>2014-03-27</td>\n",
       "      <td>142.79</td>\n",
       "      <td>282.57</td>\n",
       "      <td>100.49</td>\n",
       "      <td>250.77</td>\n",
       "      <td>565.09</td>\n",
       "      <td>142.190</td>\n",
       "      <td>NaN</td>\n",
       "      <td>NaN</td>\n",
       "      <td>NaN</td>\n",
       "      <td>...</td>\n",
       "      <td>1003.14</td>\n",
       "      <td>250.785</td>\n",
       "      <td>NaN</td>\n",
       "      <td>NaN</td>\n",
       "      <td>NaN</td>\n",
       "      <td>NaN</td>\n",
       "      <td>NaN</td>\n",
       "      <td>NaN</td>\n",
       "      <td>-0.03</td>\n",
       "      <td>-4.000000e-02</td>\n",
       "    </tr>\n",
       "    <tr>\n",
       "      <th>4</th>\n",
       "      <td>2014-03-28</td>\n",
       "      <td>143.98</td>\n",
       "      <td>283.37</td>\n",
       "      <td>100.63</td>\n",
       "      <td>250.82</td>\n",
       "      <td>709.07</td>\n",
       "      <td>143.385</td>\n",
       "      <td>141.814</td>\n",
       "      <td>NaN</td>\n",
       "      <td>NaN</td>\n",
       "      <td>...</td>\n",
       "      <td>1253.96</td>\n",
       "      <td>250.795</td>\n",
       "      <td>250.792</td>\n",
       "      <td>NaN</td>\n",
       "      <td>NaN</td>\n",
       "      <td>NaN</td>\n",
       "      <td>NaN</td>\n",
       "      <td>NaN</td>\n",
       "      <td>0.05</td>\n",
       "      <td>8.000000e-02</td>\n",
       "    </tr>\n",
       "    <tr>\n",
       "      <th>...</th>\n",
       "      <td>...</td>\n",
       "      <td>...</td>\n",
       "      <td>...</td>\n",
       "      <td>...</td>\n",
       "      <td>...</td>\n",
       "      <td>...</td>\n",
       "      <td>...</td>\n",
       "      <td>...</td>\n",
       "      <td>...</td>\n",
       "      <td>...</td>\n",
       "      <td>...</td>\n",
       "      <td>...</td>\n",
       "      <td>...</td>\n",
       "      <td>...</td>\n",
       "      <td>...</td>\n",
       "      <td>...</td>\n",
       "      <td>...</td>\n",
       "      <td>...</td>\n",
       "      <td>...</td>\n",
       "      <td>...</td>\n",
       "      <td>...</td>\n",
       "    </tr>\n",
       "    <tr>\n",
       "      <th>2529</th>\n",
       "      <td>2024-05-06</td>\n",
       "      <td>386.37</td>\n",
       "      <td>450.90</td>\n",
       "      <td>137.31</td>\n",
       "      <td>310.13</td>\n",
       "      <td>543040.37</td>\n",
       "      <td>386.400</td>\n",
       "      <td>385.602</td>\n",
       "      <td>382.289</td>\n",
       "      <td>388.460333</td>\n",
       "      <td>...</td>\n",
       "      <td>682590.79</td>\n",
       "      <td>310.050</td>\n",
       "      <td>309.912</td>\n",
       "      <td>309.670</td>\n",
       "      <td>309.053667</td>\n",
       "      <td>308.064667</td>\n",
       "      <td>305.519417</td>\n",
       "      <td>294.959083</td>\n",
       "      <td>0.16</td>\n",
       "      <td>7.000000e-02</td>\n",
       "    </tr>\n",
       "    <tr>\n",
       "      <th>2530</th>\n",
       "      <td>2024-05-07</td>\n",
       "      <td>390.50</td>\n",
       "      <td>450.48</td>\n",
       "      <td>137.71</td>\n",
       "      <td>310.05</td>\n",
       "      <td>543430.87</td>\n",
       "      <td>388.435</td>\n",
       "      <td>387.180</td>\n",
       "      <td>383.639</td>\n",
       "      <td>388.451667</td>\n",
       "      <td>...</td>\n",
       "      <td>682900.84</td>\n",
       "      <td>310.090</td>\n",
       "      <td>309.974</td>\n",
       "      <td>309.755</td>\n",
       "      <td>309.120667</td>\n",
       "      <td>308.132167</td>\n",
       "      <td>305.602167</td>\n",
       "      <td>295.057444</td>\n",
       "      <td>-0.08</td>\n",
       "      <td>-2.400000e-01</td>\n",
       "    </tr>\n",
       "    <tr>\n",
       "      <th>2531</th>\n",
       "      <td>2024-05-08</td>\n",
       "      <td>386.59</td>\n",
       "      <td>451.51</td>\n",
       "      <td>137.56</td>\n",
       "      <td>310.07</td>\n",
       "      <td>543817.46</td>\n",
       "      <td>388.545</td>\n",
       "      <td>387.986</td>\n",
       "      <td>384.445</td>\n",
       "      <td>387.984667</td>\n",
       "      <td>...</td>\n",
       "      <td>683210.91</td>\n",
       "      <td>310.060</td>\n",
       "      <td>310.020</td>\n",
       "      <td>309.828</td>\n",
       "      <td>309.185333</td>\n",
       "      <td>308.198833</td>\n",
       "      <td>305.684333</td>\n",
       "      <td>295.155917</td>\n",
       "      <td>0.02</td>\n",
       "      <td>1.000000e-01</td>\n",
       "    </tr>\n",
       "    <tr>\n",
       "      <th>2532</th>\n",
       "      <td>2024-05-09</td>\n",
       "      <td>388.34</td>\n",
       "      <td>452.61</td>\n",
       "      <td>137.68</td>\n",
       "      <td>310.13</td>\n",
       "      <td>544205.80</td>\n",
       "      <td>387.465</td>\n",
       "      <td>387.646</td>\n",
       "      <td>385.262</td>\n",
       "      <td>387.610667</td>\n",
       "      <td>...</td>\n",
       "      <td>683521.04</td>\n",
       "      <td>310.100</td>\n",
       "      <td>310.070</td>\n",
       "      <td>309.898</td>\n",
       "      <td>309.251000</td>\n",
       "      <td>308.265000</td>\n",
       "      <td>305.767500</td>\n",
       "      <td>295.254417</td>\n",
       "      <td>0.06</td>\n",
       "      <td>4.000000e-02</td>\n",
       "    </tr>\n",
       "    <tr>\n",
       "      <th>2533</th>\n",
       "      <td>2024-05-10</td>\n",
       "      <td>389.35</td>\n",
       "      <td>449.14</td>\n",
       "      <td>137.89</td>\n",
       "      <td>310.14</td>\n",
       "      <td>544595.15</td>\n",
       "      <td>388.845</td>\n",
       "      <td>388.230</td>\n",
       "      <td>385.824</td>\n",
       "      <td>387.398000</td>\n",
       "      <td>...</td>\n",
       "      <td>683831.18</td>\n",
       "      <td>310.135</td>\n",
       "      <td>310.104</td>\n",
       "      <td>309.956</td>\n",
       "      <td>309.314000</td>\n",
       "      <td>308.331167</td>\n",
       "      <td>305.849250</td>\n",
       "      <td>295.352194</td>\n",
       "      <td>0.01</td>\n",
       "      <td>-5.000000e-02</td>\n",
       "    </tr>\n",
       "  </tbody>\n",
       "</table>\n",
       "<p>2534 rows × 45 columns</p>\n",
       "</div>"
      ]
     },
     "metadata": {},
     "execution_count": 17
    }
   ],
   "metadata": {}
  },
  {
   "cell_type": "code",
   "execution_count": 14,
   "source": [
    "current_folder = os.path.join(os.getcwd(),'data')\n",
    "data.to_csv(os.path.join(current_folder,'data.csv'))"
   ],
   "outputs": [],
   "metadata": {}
  },
  {
   "cell_type": "code",
   "execution_count": 18,
   "source": [
    "base_names"
   ],
   "outputs": [
    {
     "output_type": "execute_result",
     "data": {
      "text/plain": [
       "['Goldman Sachs Japonia (K)',\n",
       " 'Goldman Sachs Zrównoważony (A)',\n",
       " 'Goldman Sachs Stabilny Globalnej Dywersyfikacji (A)',\n",
       " 'Goldman Sachs Konserwatywny (A)']"
      ]
     },
     "metadata": {},
     "execution_count": 18
    }
   ],
   "metadata": {}
  },
  {
   "cell_type": "code",
   "execution_count": 16,
   "source": [
    "import json\n",
    "with open(os.path.join(current_folder,'names.json'), 'w') as f:\n",
    "    json.dump(base_names, f, indent=4, sort_keys=True)\n",
    "    print(\"Saved\")"
   ],
   "outputs": [
    {
     "output_type": "stream",
     "name": "stdout",
     "text": [
      "Saved\n"
     ]
    }
   ],
   "metadata": {}
  },
  {
   "cell_type": "code",
   "execution_count": 17,
   "source": [
    "data.columns"
   ],
   "outputs": [
    {
     "output_type": "execute_result",
     "data": {
      "text/plain": [
       "Index(['Data', 'Goldman Sachs Japonia (K)', 'Goldman Sachs Zrównoważony (A)',\n",
       "       'Goldman Sachs Stabilny Globalnej Dywersyfikacji (A)',\n",
       "       'Goldman Sachs Konserwatywny (A)', 'Goldman Sachs Japonia Suma',\n",
       "       'Goldman Sachs Japonia Krocząca Średnia [2d]',\n",
       "       'Goldman Sachs Japonia Krocząca Średnia [5d]',\n",
       "       'Goldman Sachs Japonia Krocząca Średnia [10d]',\n",
       "       'Goldman Sachs Japonia Krocząca Średnia [30d]',\n",
       "       'Goldman Sachs Japonia Krocząca Średnia [60d]',\n",
       "       'Goldman Sachs Japonia Krocząca Średnia [120d]',\n",
       "       'Goldman Sachs Japonia Krocząca Średnia [360d]',\n",
       "       'Goldman Sachs Japonia Pierwsza pochodna',\n",
       "       'Goldman Sachs Japonia Druga pochodna',\n",
       "       'Goldman Sachs Zrównoważony Suma',\n",
       "       'Goldman Sachs Zrównoważony Krocząca Średnia [2d]',\n",
       "       'Goldman Sachs Zrównoważony Krocząca Średnia [5d]',\n",
       "       'Goldman Sachs Zrównoważony Krocząca Średnia [10d]',\n",
       "       'Goldman Sachs Zrównoważony Krocząca Średnia [30d]',\n",
       "       'Goldman Sachs Zrównoważony Krocząca Średnia [60d]',\n",
       "       'Goldman Sachs Zrównoważony Krocząca Średnia [120d]',\n",
       "       'Goldman Sachs Zrównoważony Krocząca Średnia [360d]',\n",
       "       'Goldman Sachs Zrównoważony Pierwsza pochodna',\n",
       "       'Goldman Sachs Zrównoważony Druga pochodna',\n",
       "       'Goldman Sachs Stabilny Globalnej Dywersyfikacji Suma',\n",
       "       'Goldman Sachs Stabilny Globalnej Dywersyfikacji Krocząca Średnia [2d]',\n",
       "       'Goldman Sachs Stabilny Globalnej Dywersyfikacji Krocząca Średnia [5d]',\n",
       "       'Goldman Sachs Stabilny Globalnej Dywersyfikacji Krocząca Średnia [10d]',\n",
       "       'Goldman Sachs Stabilny Globalnej Dywersyfikacji Krocząca Średnia [30d]',\n",
       "       'Goldman Sachs Stabilny Globalnej Dywersyfikacji Krocząca Średnia [60d]',\n",
       "       'Goldman Sachs Stabilny Globalnej Dywersyfikacji Krocząca Średnia [120d]',\n",
       "       'Goldman Sachs Stabilny Globalnej Dywersyfikacji Krocząca Średnia [360d]',\n",
       "       'Goldman Sachs Stabilny Globalnej Dywersyfikacji Pierwsza pochodna',\n",
       "       'Goldman Sachs Stabilny Globalnej Dywersyfikacji Druga pochodna',\n",
       "       'Goldman Sachs Konserwatywny Suma',\n",
       "       'Goldman Sachs Konserwatywny Krocząca Średnia [2d]',\n",
       "       'Goldman Sachs Konserwatywny Krocząca Średnia [5d]',\n",
       "       'Goldman Sachs Konserwatywny Krocząca Średnia [10d]',\n",
       "       'Goldman Sachs Konserwatywny Krocząca Średnia [30d]',\n",
       "       'Goldman Sachs Konserwatywny Krocząca Średnia [60d]',\n",
       "       'Goldman Sachs Konserwatywny Krocząca Średnia [120d]',\n",
       "       'Goldman Sachs Konserwatywny Krocząca Średnia [360d]',\n",
       "       'Goldman Sachs Konserwatywny Pierwsza pochodna',\n",
       "       'Goldman Sachs Konserwatywny Druga pochodna'],\n",
       "      dtype='object')"
      ]
     },
     "metadata": {},
     "execution_count": 17
    }
   ],
   "metadata": {}
  },
  {
   "cell_type": "code",
   "execution_count": 31,
   "source": [
    "[column for column in data.columns if (column.find('Goldman Sachs Japonia') == 0)]"
   ],
   "outputs": [
    {
     "output_type": "execute_result",
     "data": {
      "text/plain": [
       "['Goldman Sachs Japonia (K)',\n",
       " 'Goldman Sachs Japonia Suma',\n",
       " 'Goldman Sachs Japonia Krocząca Średnia [2d]',\n",
       " 'Goldman Sachs Japonia Krocząca Średnia [5d]',\n",
       " 'Goldman Sachs Japonia Krocząca Średnia [10d]',\n",
       " 'Goldman Sachs Japonia Krocząca Średnia [30d]',\n",
       " 'Goldman Sachs Japonia Krocząca Średnia [60d]',\n",
       " 'Goldman Sachs Japonia Krocząca Średnia [120d]',\n",
       " 'Goldman Sachs Japonia Krocząca Średnia [360d]',\n",
       " 'Goldman Sachs Japonia Pierwsza pochodna',\n",
       " 'Goldman Sachs Japonia Druga pochodna']"
      ]
     },
     "metadata": {},
     "execution_count": 31
    }
   ],
   "metadata": {}
  },
  {
   "cell_type": "code",
   "execution_count": 29,
   "source": [
    "data.columns[1].find('Goldman Sachs Japonia (K)') == 0"
   ],
   "outputs": [
    {
     "output_type": "execute_result",
     "data": {
      "text/plain": [
       "True"
      ]
     },
     "metadata": {},
     "execution_count": 29
    }
   ],
   "metadata": {}
  },
  {
   "cell_type": "code",
   "execution_count": 28,
   "source": [
    "data.columns[1]"
   ],
   "outputs": [
    {
     "output_type": "execute_result",
     "data": {
      "text/plain": [
       "'Goldman Sachs Japonia (K)'"
      ]
     },
     "metadata": {},
     "execution_count": 28
    }
   ],
   "metadata": {}
  },
  {
   "cell_type": "code",
   "execution_count": 30,
   "source": [
    "series_names = [{'label': name, 'value':name} for name in base_names]"
   ],
   "outputs": [],
   "metadata": {}
  },
  {
   "cell_type": "code",
   "execution_count": 36,
   "source": [
    "[ value['value']  for value in series_names]"
   ],
   "outputs": [
    {
     "output_type": "execute_result",
     "data": {
      "text/plain": [
       "['Goldman Sachs Japonia (K)',\n",
       " 'Goldman Sachs Zrównoważony (A)',\n",
       " 'Goldman Sachs Stabilny Globalnej Dywersyfikacji (A)',\n",
       " 'Goldman Sachs Konserwatywny (A)']"
      ]
     },
     "metadata": {},
     "execution_count": 36
    }
   ],
   "metadata": {}
  },
  {
   "cell_type": "code",
   "execution_count": 36,
   "source": [
    "[column for column in series_names if (column['value'].find('Goldman Sachs Japonia') == 0)]"
   ],
   "outputs": [
    {
     "output_type": "execute_result",
     "data": {
      "text/plain": [
       "[{'label': 'Goldman Sachs Japonia (K)', 'value': 'Goldman Sachs Japonia (K)'}]"
      ]
     },
     "metadata": {},
     "execution_count": 36
    }
   ],
   "metadata": {}
  },
  {
   "cell_type": "code",
   "execution_count": 1,
   "source": [
    "import linear"
   ],
   "outputs": [],
   "metadata": {}
  },
  {
   "cell_type": "code",
   "execution_count": 3,
   "source": [
    "linear_output = linear.get_linear_predictions(future_days = 30)"
   ],
   "outputs": [],
   "metadata": {}
  },
  {
   "cell_type": "code",
   "execution_count": 4,
   "source": [
    "linear_output"
   ],
   "outputs": [
    {
     "output_type": "execute_result",
     "data": {
      "text/plain": [
       "{'Goldman Sachs Japonia (K)': 288.9850552311913,\n",
       " 'Goldman Sachs Zrównoważony (A)': 386.26714687709307,\n",
       " 'Goldman Sachs Stabilny Globalnej Dywersyfikacji (A)': 131.15891342355675,\n",
       " 'Goldman Sachs Konserwatywny (A)': 289.3989206111519,\n",
       " 'Goldman Sachs Japonia Suma': 508956.93065944,\n",
       " 'Goldman Sachs Japonia Krocząca Średnia [2d]': 289.2097103537965,\n",
       " 'Goldman Sachs Japonia Krocząca Średnia [5d]': 288.1969948173868,\n",
       " 'Goldman Sachs Japonia Krocząca Średnia [10d]': 287.8161577012261,\n",
       " 'Goldman Sachs Japonia Krocząca Średnia [30d]': 285.84611351628376,\n",
       " 'Goldman Sachs Japonia Krocząca Średnia [60d]': 282.4542209108664,\n",
       " 'Goldman Sachs Japonia Krocząca Średnia [120d]': 276.05948760557817,\n",
       " 'Goldman Sachs Japonia Krocząca Średnia [360d]': 259.0740907348759,\n",
       " 'Goldman Sachs Japonia Pierwsza pochodna': 0.27342616930851926,\n",
       " 'Goldman Sachs Japonia Druga pochodna': 0.12458384737023404,\n",
       " 'Goldman Sachs Zrównoważony Suma': 822450.6593673046,\n",
       " 'Goldman Sachs Zrównoważony Krocząca Średnia [2d]': 385.9860552500905,\n",
       " 'Goldman Sachs Zrównoważony Krocząca Średnia [5d]': 386.20942931837044,\n",
       " 'Goldman Sachs Zrównoważony Krocząca Średnia [10d]': 385.7545775676084,\n",
       " 'Goldman Sachs Zrównoważony Krocząca Średnia [30d]': 383.9459624732373,\n",
       " 'Goldman Sachs Zrównoważony Krocząca Średnia [60d]': 382.161027475343,\n",
       " 'Goldman Sachs Zrównoważony Krocząca Średnia [120d]': 378.4744347327101,\n",
       " 'Goldman Sachs Zrównoważony Krocząca Średnia [360d]': 368.8671849122378,\n",
       " 'Goldman Sachs Zrównoważony Pierwsza pochodna': 0.237260625252883,\n",
       " 'Goldman Sachs Zrównoważony Druga pochodna': 0.12160382107002343,\n",
       " 'Goldman Sachs Stabilny Globalnej Dywersyfikacji Suma': 304471.98243990313,\n",
       " 'Goldman Sachs Stabilny Globalnej Dywersyfikacji Krocząca Średnia [2d]': 131.1086561396002,\n",
       " 'Goldman Sachs Stabilny Globalnej Dywersyfikacji Krocząca Średnia [5d]': 131.12566407641975,\n",
       " 'Goldman Sachs Stabilny Globalnej Dywersyfikacji Krocząca Średnia [10d]': 130.9897016028637,\n",
       " 'Goldman Sachs Stabilny Globalnej Dywersyfikacji Krocząca Średnia [30d]': 130.6941732324056,\n",
       " 'Goldman Sachs Stabilny Globalnej Dywersyfikacji Krocząca Średnia [60d]': 130.33164256659734,\n",
       " 'Goldman Sachs Stabilny Globalnej Dywersyfikacji Krocząca Średnia [120d]': 129.64388082110156,\n",
       " 'Goldman Sachs Stabilny Globalnej Dywersyfikacji Krocząca Średnia [360d]': 128.12480316022052,\n",
       " 'Goldman Sachs Stabilny Globalnej Dywersyfikacji Pierwsza pochodna': 0.010309772875941679,\n",
       " 'Goldman Sachs Stabilny Globalnej Dywersyfikacji Druga pochodna': 0.01152943092681329,\n",
       " 'Goldman Sachs Konserwatywny Suma': 682391.4308602912,\n",
       " 'Goldman Sachs Konserwatywny Krocząca Średnia [2d]': 289.5696822461062,\n",
       " 'Goldman Sachs Konserwatywny Krocząca Średnia [5d]': 289.20646455609415,\n",
       " 'Goldman Sachs Konserwatywny Krocząca Średnia [10d]': 289.18688592901583,\n",
       " 'Goldman Sachs Konserwatywny Krocząca Średnia [30d]': 288.6014043400124,\n",
       " 'Goldman Sachs Konserwatywny Krocząca Średnia [60d]': 287.9882016190757,\n",
       " 'Goldman Sachs Konserwatywny Krocząca Średnia [120d]': 286.6050596664368,\n",
       " 'Goldman Sachs Konserwatywny Krocząca Średnia [360d]': 281.938615580006,\n",
       " 'Goldman Sachs Konserwatywny Pierwsza pochodna': 0.05302690329194745,\n",
       " 'Goldman Sachs Konserwatywny Druga pochodna': 0.004625441030854601}"
      ]
     },
     "metadata": {},
     "execution_count": 4
    }
   ],
   "metadata": {}
  },
  {
   "cell_type": "code",
   "execution_count": null,
   "source": [
    "    \"\"\"\n",
    "    daq.Gauge(\n",
    "        showCurrentValue=True,\n",
    "        units=\"PLN\",\n",
    "        value=5,\n",
    "        label='Default',\n",
    "        max=10,\n",
    "        min=0\n",
    "    )\n",
    "    \"\"\""
   ],
   "outputs": [],
   "metadata": {}
  },
  {
   "cell_type": "code",
   "execution_count": 19,
   "source": [
    "for column in data.columns[:5]:\n",
    "    print(column)\n",
    "\n",
    "    linear_output[column]\n",
    "    \n",
    "    "
   ],
   "outputs": [
    {
     "output_type": "stream",
     "name": "stdout",
     "text": [
      "Data\n",
      "Goldman Sachs Japonia (K)\n",
      "Goldman Sachs Zrównoważony (A)\n",
      "Goldman Sachs Stabilny Globalnej Dywersyfikacji (A)\n",
      "Goldman Sachs Konserwatywny (A)\n"
     ]
    }
   ],
   "metadata": {}
  },
  {
   "cell_type": "code",
   "execution_count": 28,
   "source": [
    "data.tail(1)['Goldman Sachs Japonia (K)'].values[0]"
   ],
   "outputs": [
    {
     "output_type": "execute_result",
     "data": {
      "text/plain": [
       "389.35"
      ]
     },
     "metadata": {},
     "execution_count": 28
    }
   ],
   "metadata": {}
  },
  {
   "cell_type": "code",
   "execution_count": 25,
   "source": [
    "data.min()"
   ],
   "outputs": [
    {
     "output_type": "execute_result",
     "data": {
      "text/plain": [
       "Data                                                                       2014-03-24\n",
       "Goldman Sachs Japonia (K)                                                      138.76\n",
       "Goldman Sachs Zrównoważony (A)                                                 264.59\n",
       "Goldman Sachs Stabilny Globalnej Dywersyfikacji (A)                             99.96\n",
       "Goldman Sachs Konserwatywny (A)                                                250.77\n",
       "Goldman Sachs Japonia Suma                                                     140.33\n",
       "Goldman Sachs Japonia Krocząca Średnia [2d]                                    138.82\n",
       "Goldman Sachs Japonia Krocząca Średnia [5d]                                   139.486\n",
       "Goldman Sachs Japonia Krocząca Średnia [10d]                                  141.225\n",
       "Goldman Sachs Japonia Krocząca Średnia [30d]                               142.734667\n",
       "Goldman Sachs Japonia Krocząca Średnia [60d]                                 145.6025\n",
       "Goldman Sachs Japonia Krocząca Średnia [120d]                               152.04475\n",
       "Goldman Sachs Japonia Krocząca Średnia [360d]                              169.563028\n",
       "Goldman Sachs Japonia Pierwsza pochodna                                        -13.61\n",
       "Goldman Sachs Japonia Druga pochodna                                           -15.87\n",
       "Goldman Sachs Zrównoważony Suma                                                278.99\n",
       "Goldman Sachs Zrównoważony Krocząca Średnia [2d]                               266.86\n",
       "Goldman Sachs Zrównoważony Krocząca Średnia [5d]                               269.41\n",
       "Goldman Sachs Zrównoważony Krocząca Średnia [10d]                             272.759\n",
       "Goldman Sachs Zrównoważony Krocząca Średnia [30d]                             277.557\n",
       "Goldman Sachs Zrównoważony Krocząca Średnia [60d]                          280.299167\n",
       "Goldman Sachs Zrównoważony Krocząca Średnia [120d]                         285.030083\n",
       "Goldman Sachs Zrównoważony Krocząca Średnia [360d]                         290.657667\n",
       "Goldman Sachs Zrównoważony Pierwsza pochodna                                   -19.62\n",
       "Goldman Sachs Zrównoważony Druga pochodna                                      -14.99\n",
       "Goldman Sachs Stabilny Globalnej Dywersyfikacji Suma                            100.0\n",
       "Goldman Sachs Stabilny Globalnej Dywersyfikacji Krocząca Średnia [2d]          100.12\n",
       "Goldman Sachs Stabilny Globalnej Dywersyfikacji Krocząca Średnia [5d]          100.33\n",
       "Goldman Sachs Stabilny Globalnej Dywersyfikacji Krocząca Średnia [10d]        100.636\n",
       "Goldman Sachs Stabilny Globalnej Dywersyfikacji Krocząca Średnia [30d]     100.896667\n",
       "Goldman Sachs Stabilny Globalnej Dywersyfikacji Krocząca Średnia [60d]     101.994333\n",
       "Goldman Sachs Stabilny Globalnej Dywersyfikacji Krocząca Średnia [120d]     103.77925\n",
       "Goldman Sachs Stabilny Globalnej Dywersyfikacji Krocząca Średnia [360d]    109.688444\n",
       "Goldman Sachs Stabilny Globalnej Dywersyfikacji Pierwsza pochodna               -2.28\n",
       "Goldman Sachs Stabilny Globalnej Dywersyfikacji Druga pochodna                  -2.16\n",
       "Goldman Sachs Konserwatywny Suma                                               250.78\n",
       "Goldman Sachs Konserwatywny Krocząca Średnia [2d]                             250.785\n",
       "Goldman Sachs Konserwatywny Krocząca Średnia [5d]                             250.792\n",
       "Goldman Sachs Konserwatywny Krocząca Średnia [10d]                            250.836\n",
       "Goldman Sachs Konserwatywny Krocząca Średnia [30d]                            251.138\n",
       "Goldman Sachs Konserwatywny Krocząca Średnia [60d]                             251.69\n",
       "Goldman Sachs Konserwatywny Krocząca Średnia [120d]                          252.6575\n",
       "Goldman Sachs Konserwatywny Krocząca Średnia [360d]                        255.371278\n",
       "Goldman Sachs Konserwatywny Pierwsza pochodna                                   -0.93\n",
       "Goldman Sachs Konserwatywny Druga pochodna                                      -1.25\n",
       "dtype: object"
      ]
     },
     "metadata": {},
     "execution_count": 25
    }
   ],
   "metadata": {}
  },
  {
   "cell_type": "code",
   "execution_count": null,
   "source": [],
   "outputs": [],
   "metadata": {}
  }
 ],
 "metadata": {
  "orig_nbformat": 4,
  "language_info": {
   "name": "python",
   "version": "3.10.14",
   "mimetype": "text/x-python",
   "codemirror_mode": {
    "name": "ipython",
    "version": 3
   },
   "pygments_lexer": "ipython3",
   "nbconvert_exporter": "python",
   "file_extension": ".py"
  },
  "kernelspec": {
   "name": "python3",
   "display_name": "Python 3.10.14 64-bit ('dash': conda)"
  },
  "interpreter": {
   "hash": "ac0da5b77f6916d184e212def9005d5b2ed51a5c0deb916efbd4534e02f1e58c"
  }
 },
 "nbformat": 4,
 "nbformat_minor": 2
}